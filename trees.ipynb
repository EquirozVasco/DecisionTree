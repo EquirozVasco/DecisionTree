{
 "cells": [
  {
   "cell_type": "code",
   "execution_count": null,
   "metadata": {},
   "outputs": [],
   "source": [
    "import pandas as pd\n",
    "import seaborn as sns\n",
    "import matplotlib.pyplot as plt\n",
    "import numpy as np"
   ]
  },
  {
   "cell_type": "code",
   "execution_count": null,
   "metadata": {},
   "outputs": [],
   "source": [
    "df = pd.read_csv('Daegu_Real_Estate_data.csv')"
   ]
  },
  {
   "cell_type": "code",
   "execution_count": null,
   "metadata": {
    "scrolled": true
   },
   "outputs": [],
   "source": [
    "df"
   ]
  },
  {
   "cell_type": "markdown",
   "metadata": {},
   "source": [
    "# Parte 1: Análisis descriptivo de los datos"
   ]
  },
  {
   "cell_type": "code",
   "execution_count": null,
   "metadata": {
    "scrolled": true
   },
   "outputs": [],
   "source": [
    "print(\"Los datos están conformados por \",df.shape[0], \" filas y \", df.shape[1], \" columnas\")\n",
    "df.head(10)"
   ]
  },
  {
   "cell_type": "markdown",
   "metadata": {},
   "source": [
    "## Descripción de variables: \n",
    "\n",
    "*SalePrice*: Precio de venta del apartamento en dólares.\n",
    "\n",
    "*YearBuilt*: Año de construcción del apartamento.\n",
    "\n",
    "*YrSold*: Año de venta del apartamento.\n",
    "\n",
    "*MonthSold*: Mes de venta del apartamento.\n",
    "\n",
    "*Size(sqf)*: Tamaño del apartamento en pies cuadrados.\n",
    "\n",
    "*Floor*: Número de piso donde se encuentra el apartamento.\n",
    "\n",
    "*HallwayType*: Tipo de pasillo en el edificio donde se encuentra el apartamento.\n",
    "\n",
    "*HeatingType*: Tipo de calefacción en el apartamento.\n",
    "\n",
    "*AptManageType*: Tipo de administración del apartamento.\n",
    "\n",
    "*N_Parkinglot(Ground)*: Número de estacionamientos en la planta baja del edificio.\n",
    "\n",
    "*N_Parkinglot(Basement)*: Número de estacionamientos en el sótano del edificio.\n",
    "\n",
    "*TimeToBusStop*: Tiempo (en minutos) que toma llegar a la parada de autobús más cercana.\n",
    "\n",
    "*TimeToSubway*: Tiempo (en minutos) que toma llegar a la estación de metro más cercana.\n",
    "\n",
    "*N_APT*: Número de apartamentos en el edificio.\n",
    "\n",
    "*N_manager*: Número de administradores del edificio.\n",
    "\n",
    "*N_elevators*: Número de elevadores en el edificio.\n",
    "\n",
    "*N_FacilitiesNearBy(PublicOffice)*: Número de oficinas públicas cercanas al apartamento.\n",
    "\n",
    "*N_FacilitiesNearBy(Hospital)*: Número de hospitales cercanos al apartamento.\n",
    "\n",
    "*N_FacilitiesNearBy(Dpartmentstore)*: Número de tiendas departamentales cercanas al apartamento.\n",
    "\n",
    "*N_FacilitiesNearBy(Mall)*: Número de centros comerciales cercanos al apartamento.\n",
    "\n",
    "*N_FacilitiesNearBy(ETC)*: Número de otras instalaciones cercanas al apartamento.\n",
    "\n",
    "*N_FacilitiesNearBy(Park)*: Número de parques cercanos al apartamento.\n",
    "\n",
    "*N_SchoolNearBy(Elementary)*: Número de escuelas primarias cercanas al apartamento.\n",
    "\n",
    "*N_SchoolNearBy(Middle)*: Número de escuelas secundarias cercanas al apartamento.\n",
    "\n",
    "*N_SchoolNearBy(High)*: Número de escuelas preparatorias cercanas al apartamento.\n",
    "\n",
    "*N_SchoolNearBy(University)*: Número de universidades cercanas al apartamento.\n",
    "\n",
    "*N_FacilitiesInApt*: Número de instalaciones dentro del apartamento.\n",
    "\n",
    "*N_FacilitiesNearBy(Total)*: Número total de instalaciones cercanas al apartamento.\n",
    "\n",
    "*N_SchoolNearBy(Total)*: Número total de escuelas cercanas al apartamento."
   ]
  },
  {
   "cell_type": "markdown",
   "metadata": {},
   "source": [
    "## Recuento de variables nulas:"
   ]
  },
  {
   "cell_type": "code",
   "execution_count": null,
   "metadata": {
    "scrolled": true
   },
   "outputs": [],
   "source": [
    "df.info()"
   ]
  },
  {
   "cell_type": "code",
   "execution_count": null,
   "metadata": {},
   "outputs": [],
   "source": [
    "# Los datos no tienen valores nulos, el mejor de los casos.\n",
    "df.isnull().sum()"
   ]
  },
  {
   "cell_type": "markdown",
   "metadata": {},
   "source": [
    "## Histograma de frecuencias"
   ]
  },
  {
   "cell_type": "code",
   "execution_count": null,
   "metadata": {
    "scrolled": true
   },
   "outputs": [],
   "source": [
    "sns.set()\n",
    "fig = plt.figure(figsize = [35,45])\n",
    "cols = [\n",
    "    \"SalePrice\",\n",
    "    \"YearBuilt\",\n",
    "    \"YrSold\",\n",
    "    \"MonthSold\",\n",
    "    \"Size(sqf)\",\n",
    "    \"Floor\",\n",
    "    \"HallwayType\",\n",
    "    \"HeatingType\",\n",
    "    \"AptManageType\",\n",
    "    \"N_Parkinglot(Ground)\",\n",
    "    \"N_Parkinglot(Basement)\",\n",
    "    \"TimeToBusStop\",\n",
    "    \"TimeToSubway\",\n",
    "    \"N_APT\",\n",
    "    \"N_manager\",\n",
    "    \"N_elevators\",\n",
    "    \"SubwayStation\",\n",
    "    \"N_FacilitiesNearBy(PublicOffice)\",\n",
    "    \"N_FacilitiesNearBy(Hospital)\",\n",
    "    \"N_FacilitiesNearBy(Dpartmentstore)\",\n",
    "    \"N_FacilitiesNearBy(Mall)\",\n",
    "    \"N_FacilitiesNearBy(ETC)\",\n",
    "    \"N_FacilitiesNearBy(Park)\",\n",
    "    \"N_SchoolNearBy(Elementary)\",\n",
    "    \"N_SchoolNearBy(Middle)\",\n",
    "    \"N_SchoolNearBy(High)\",\n",
    "    \"N_SchoolNearBy(University)\",\n",
    "    \"N_FacilitiesInApt\",\n",
    "    \"N_FacilitiesNearBy(Total)\",\n",
    "    \"N_SchoolNearBy(Total)\"\n",
    "]\n",
    "cnt = 1\n",
    "for col in cols :\n",
    "    plt.subplot(6,5,cnt)\n",
    "    sns.histplot(df[col], kde = True)\n",
    "    cnt+=1\n",
    "plt.show()"
   ]
  },
  {
   "cell_type": "markdown",
   "metadata": {},
   "source": [
    "## Gráfico de variables vs precio de venta"
   ]
  },
  {
   "cell_type": "code",
   "execution_count": null,
   "metadata": {
    "scrolled": false
   },
   "outputs": [],
   "source": [
    "fig = plt.figure(figsize = [25,100])\n",
    "cols = [\n",
    "    'YearBuilt',\n",
    "    'YrSold',\n",
    "    'MonthSold',\n",
    "    'Size(sqf)',\n",
    "    'Floor',\n",
    "    'HallwayType',\n",
    "    'HeatingType',\n",
    "    'AptManageType',\n",
    "    'N_Parkinglot(Ground)',\n",
    "    'N_Parkinglot(Basement)',\n",
    "    'TimeToBusStop',\n",
    "    'TimeToSubway',\n",
    "    'N_APT',\n",
    "    'N_manager',\n",
    "    'N_elevators',\n",
    "    'SubwayStation',\n",
    "    'N_FacilitiesNearBy(PublicOffice)',\n",
    "    'N_FacilitiesNearBy(Hospital)',\n",
    "    'N_FacilitiesNearBy(Dpartmentstore)',\n",
    "    'N_FacilitiesNearBy(Mall)',\n",
    "    'N_FacilitiesNearBy(ETC)',\n",
    "    'N_FacilitiesNearBy(Park)',\n",
    "    'N_SchoolNearBy(Elementary)',\n",
    "    'N_SchoolNearBy(Middle)',\n",
    "    'N_SchoolNearBy(High)',\n",
    "    'N_SchoolNearBy(University)',\n",
    "    'N_FacilitiesInApt',\n",
    "    'N_FacilitiesNearBy(Total)',\n",
    "    'N_SchoolNearBy(Total)'\n",
    "]\n",
    "cnt = 1\n",
    "for col in cols :\n",
    "    plt.subplot(15,2,cnt)\n",
    "    sns.barplot(data = df, x = col, y = 'SalePrice').set(title='SalePrice vs {0}'.format(col))\n",
    "    cnt+=1\n",
    "plt.show()"
   ]
  },
  {
   "cell_type": "markdown",
   "metadata": {},
   "source": [
    "## Gráfico mapa de calor correlación"
   ]
  },
  {
   "cell_type": "code",
   "execution_count": null,
   "metadata": {},
   "outputs": [],
   "source": [
    "fig = plt.figure(figsize = [20,15])\n",
    "sns.heatmap(df.corr(),annot = True, cmap = 'Blues', center = 0)\n",
    "plt.show()"
   ]
  },
  {
   "cell_type": "markdown",
   "metadata": {},
   "source": [
    "#### 1. Cambios para la columna  HallwayType"
   ]
  },
  {
   "cell_type": "code",
   "execution_count": null,
   "metadata": {},
   "outputs": [],
   "source": [
    "#Campos en HallwayType\n",
    "df[['HallwayType']].value_counts()"
   ]
  },
  {
   "cell_type": "code",
   "execution_count": null,
   "metadata": {},
   "outputs": [],
   "source": [
    "#Cambios en HallwayType: 1 para terraced, 2 para mixed y 3 para corridor\n",
    "df.loc[df['HallwayType'] == 'terraced','HallwayTypeId'] = 1\n",
    "df.loc[df['HallwayType'] == 'mixed','HallwayTypeId'] = 2\n",
    "df.loc[df['HallwayType'] == 'corridor','HallwayTypeId'] = 3\n",
    "df[['HallwayTypeId']].value_counts()"
   ]
  },
  {
   "cell_type": "markdown",
   "metadata": {},
   "source": [
    "#### 2. Cambios para la columna  HeatingType"
   ]
  },
  {
   "cell_type": "code",
   "execution_count": null,
   "metadata": {},
   "outputs": [],
   "source": [
    "#Campos en HeatingType\n",
    "df[['HeatingType']].value_counts()"
   ]
  },
  {
   "cell_type": "code",
   "execution_count": null,
   "metadata": {},
   "outputs": [],
   "source": [
    "#Cambios en HeatingType: 1 para individual_heating, 2 para central_heating\n",
    "df.loc[df['HeatingType'] == 'individual_heating','HeatingTypeId'] = 1\n",
    "df.loc[df['HeatingType'] == 'central_heating','HeatingTypeId'] = 2\n",
    "df[['HeatingTypeId']].value_counts()"
   ]
  },
  {
   "cell_type": "markdown",
   "metadata": {},
   "source": [
    "#### 3. Cambios para la columna AptManageType"
   ]
  },
  {
   "cell_type": "code",
   "execution_count": null,
   "metadata": {},
   "outputs": [],
   "source": [
    "#Campos en AptManageType\n",
    "df[['AptManageType']].value_counts()"
   ]
  },
  {
   "cell_type": "code",
   "execution_count": null,
   "metadata": {},
   "outputs": [],
   "source": [
    "#Cambios en AptManageType: 1 para management_in_trust, 2 para self_management\n",
    "df.loc[df['AptManageType'] == 'management_in_trust','AptManageTypeId'] = 1\n",
    "df.loc[df['AptManageType'] == 'self_management','AptManageTypeId'] = 2\n",
    "df[['AptManageTypeId']].value_counts()"
   ]
  },
  {
   "cell_type": "markdown",
   "metadata": {},
   "source": [
    "#### 4. Cambios para la columna TimeToBusStop"
   ]
  },
  {
   "cell_type": "code",
   "execution_count": null,
   "metadata": {},
   "outputs": [],
   "source": [
    "#Campos en TimeToBusStop\n",
    "df[['TimeToBusStop']].value_counts()"
   ]
  },
  {
   "cell_type": "code",
   "execution_count": null,
   "metadata": {},
   "outputs": [],
   "source": [
    "#Cambios en TimeToBusStop: 1 para 0~5min, 2 para 5min~10min y 3 para 10min~15min\n",
    "df.loc[df['TimeToBusStop'] == '0~5min','TimeToBusStopId'] = 1\n",
    "df.loc[df['TimeToBusStop'] == '5min~10min','TimeToBusStopId'] = 2\n",
    "df.loc[df['TimeToBusStop'] == '10min~15min','TimeToBusStopId'] = 3\n",
    "df[['TimeToBusStopId']].value_counts()"
   ]
  },
  {
   "cell_type": "markdown",
   "metadata": {},
   "source": [
    "#### 5. Cambios para la columna TimeToSubway"
   ]
  },
  {
   "cell_type": "code",
   "execution_count": null,
   "metadata": {},
   "outputs": [],
   "source": [
    "#Campos en TimeToSubway\n",
    "df[['TimeToSubway']].value_counts()"
   ]
  },
  {
   "cell_type": "code",
   "execution_count": null,
   "metadata": {},
   "outputs": [],
   "source": [
    "#Cambios en TimeToBusStop: 1 para 0-5min, 2 para 5min~10min, 3 para 10min~15min, 4 para 15min~20min, 5 para no_bus_stop_nearby\n",
    "df.loc[df['TimeToSubway'] == '0-5min','TimeToSubwayId'] = 1\n",
    "df.loc[df['TimeToSubway'] == '5min~10min','TimeToSubwayId'] = 2\n",
    "df.loc[df['TimeToSubway'] == '10min~15min','TimeToSubwayId'] = 3\n",
    "df.loc[df['TimeToSubway'] == '15min~20min','TimeToSubwayId'] = 4\n",
    "df.loc[df['TimeToSubway'] == 'no_bus_stop_nearby','TimeToSubwayId'] = 5\n",
    "df[['TimeToSubwayId']].value_counts()"
   ]
  },
  {
   "cell_type": "markdown",
   "metadata": {},
   "source": [
    "#### 6. Cambios para la columna SubwayStation"
   ]
  },
  {
   "cell_type": "code",
   "execution_count": null,
   "metadata": {},
   "outputs": [],
   "source": [
    "#Campos en SubwayStation\n",
    "df[['SubwayStation']].value_counts()"
   ]
  },
  {
   "cell_type": "code",
   "execution_count": null,
   "metadata": {},
   "outputs": [],
   "source": [
    "#Cambios en TimeToBusStop: \n",
    "#1 para Kyungbuk_uni_hospital, \n",
    "#2 para Myung-duk, \n",
    "#3 para Banwoldang, \n",
    "#4 para Bangoge, \n",
    "#5 para Sin-nam,\n",
    "#6 para no_subway_nearby,\n",
    "#7 para Chil-sung-market,\n",
    "#8 para Daegu\n",
    "df.loc[df['SubwayStation'] == 'Kyungbuk_uni_hospital','SubwayStationId'] = 1\n",
    "df.loc[df['SubwayStation'] == 'Myung-duk','SubwayStationId'] = 2\n",
    "df.loc[df['SubwayStation'] == 'Banwoldang','SubwayStationId'] = 3\n",
    "df.loc[df['SubwayStation'] == 'Bangoge','SubwayStationId'] = 4\n",
    "df.loc[df['SubwayStation'] == 'Sin-nam','SubwayStationId'] = 5\n",
    "df.loc[df['SubwayStation'] == 'no_subway_nearby','SubwayStationId'] = 6\n",
    "df.loc[df['SubwayStation'] == 'Chil-sung-market','SubwayStationId'] = 7\n",
    "df.loc[df['SubwayStation'] == 'Daegu','SubwayStationId'] = 8\n",
    "\n",
    "df[['SubwayStationId']].value_counts()"
   ]
  },
  {
   "cell_type": "code",
   "execution_count": null,
   "metadata": {},
   "outputs": [],
   "source": [
    "df.describe()"
   ]
  },
  {
   "cell_type": "markdown",
   "metadata": {},
   "source": [
    "# Parte 2: Árbol de decisión regresor"
   ]
  },
  {
   "cell_type": "code",
   "execution_count": null,
   "metadata": {},
   "outputs": [],
   "source": [
    "from sklearn.tree import DecisionTreeRegressor\n",
    "from sklearn.metrics import mean_squared_error\n",
    "from sklearn.tree import DecisionTreeClassifier\n",
    "from sklearn.model_selection import train_test_split\n",
    "from sklearn import metrics\n",
    "from sklearn.tree import plot_tree"
   ]
  },
  {
   "cell_type": "markdown",
   "metadata": {},
   "source": [
    "## Creación de variables dummy"
   ]
  },
  {
   "cell_type": "code",
   "execution_count": null,
   "metadata": {},
   "outputs": [],
   "source": [
    "df = pd.get_dummies(df)\n",
    "df.isnull().sum()"
   ]
  },
  {
   "cell_type": "markdown",
   "metadata": {},
   "source": [
    "### Separación de datos a usar en el árbol"
   ]
  },
  {
   "cell_type": "code",
   "execution_count": null,
   "metadata": {},
   "outputs": [],
   "source": [
    "X = df.loc[:,[\n",
    "    'YearBuilt',\n",
    "    'YrSold',\n",
    "    'MonthSold',\n",
    "    'Size(sqf)',\n",
    "    'Floor',\n",
    "    'HallwayTypeId',\n",
    "    'HeatingTypeId',\n",
    "    'AptManageTypeId',\n",
    "    'N_Parkinglot(Ground)',\n",
    "    'N_Parkinglot(Basement)',\n",
    "    'TimeToBusStopId',\n",
    "    'TimeToSubwayId',\n",
    "    'N_APT',\n",
    "    'N_manager',\n",
    "    'N_elevators',\n",
    "    'SubwayStationId',\n",
    "    'N_FacilitiesNearBy(PublicOffice)',\n",
    "    'N_FacilitiesNearBy(Hospital)',\n",
    "    'N_FacilitiesNearBy(Dpartmentstore)',\n",
    "    'N_FacilitiesNearBy(Mall)',\n",
    "    'N_FacilitiesNearBy(ETC)',\n",
    "    'N_FacilitiesNearBy(Park)',\n",
    "    'N_SchoolNearBy(Elementary)',\n",
    "    'N_SchoolNearBy(Middle)',\n",
    "    'N_SchoolNearBy(High)',\n",
    "    'N_SchoolNearBy(University)',\n",
    "    'N_FacilitiesInApt',\n",
    "    'N_FacilitiesNearBy(Total)',\n",
    "    'N_SchoolNearBy(Total)'\n",
    "]].values\n",
    "\n",
    "y = df.loc[:,['SalePrice']].values\n"
   ]
  },
  {
   "cell_type": "markdown",
   "metadata": {},
   "source": [
    "## División de datos de entrenamiento y prueba"
   ]
  },
  {
   "cell_type": "code",
   "execution_count": null,
   "metadata": {},
   "outputs": [],
   "source": [
    "X_train, X_test, y_train, y_test = train_test_split(X, y, test_size = 0.15)"
   ]
  },
  {
   "cell_type": "markdown",
   "metadata": {},
   "source": [
    "## Creación y entrenamiento de modelo de árbol de decisión"
   ]
  },
  {
   "cell_type": "code",
   "execution_count": null,
   "metadata": {},
   "outputs": [],
   "source": [
    "np.random.seed(310589)\n",
    "regressor = DecisionTreeRegressor()\n",
    "regressor.fit(X_train, y_train.reshape(-1))"
   ]
  },
  {
   "cell_type": "code",
   "execution_count": null,
   "metadata": {},
   "outputs": [],
   "source": [
    "y_pred = regressor.predict(X_test)\n",
    "y_pred"
   ]
  },
  {
   "cell_type": "code",
   "execution_count": null,
   "metadata": {},
   "outputs": [],
   "source": [
    "print(\"Mean Square Error: \", mean_squared_error(y_test, y_pred))\n",
    "print(\"Root of Mean Square Error: \", mean_squared_error(y_test, y_pred, squared=False))\n",
    "print(\"score: \", regressor.score(X_test, y_test.reshape(-1)))"
   ]
  },
  {
   "cell_type": "markdown",
   "metadata": {},
   "source": [
    "## Hiperparámetros"
   ]
  },
  {
   "cell_type": "code",
   "execution_count": null,
   "metadata": {},
   "outputs": [],
   "source": [
    "from sklearn.model_selection import KFold\n",
    "from sklearn.model_selection import GridSearchCV"
   ]
  },
  {
   "cell_type": "code",
   "execution_count": null,
   "metadata": {},
   "outputs": [],
   "source": [
    "grid_parametros = {\n",
    "    'max_depth' : range(4,20),\n",
    "    'min_samples_leaf' : range(10,200,10),\n",
    "    'min_samples_split' : range(10,200,10)\n",
    "}\n",
    "\n",
    "n_folds = 5"
   ]
  },
  {
   "cell_type": "code",
   "execution_count": null,
   "metadata": {},
   "outputs": [],
   "source": [
    "np.random.seed(310589)\n",
    "regressor = DecisionTreeRegressor()\n",
    "grid = GridSearchCV(regressor, grid_parametros, cv = n_folds, n_jobs = -1, return_train_score=True)"
   ]
  },
  {
   "cell_type": "code",
   "execution_count": null,
   "metadata": {},
   "outputs": [],
   "source": [
    "np.random.seed(310589)\n",
    "grid.fit(X_train, y_train)"
   ]
  },
  {
   "cell_type": "code",
   "execution_count": null,
   "metadata": {},
   "outputs": [],
   "source": [
    "cv_result = pd.DataFrame(grid.cv_results_)\n",
    "cv_result.shape"
   ]
  },
  {
   "cell_type": "code",
   "execution_count": null,
   "metadata": {},
   "outputs": [],
   "source": [
    "cv_result.head()"
   ]
  },
  {
   "cell_type": "code",
   "execution_count": null,
   "metadata": {},
   "outputs": [],
   "source": [
    "grid.best_params_"
   ]
  },
  {
   "cell_type": "code",
   "execution_count": null,
   "metadata": {},
   "outputs": [],
   "source": [
    "best_grid = grid.best_estimator_\n",
    "best_grid"
   ]
  },
  {
   "cell_type": "code",
   "execution_count": null,
   "metadata": {},
   "outputs": [],
   "source": [
    "best_grid.fit(X_train, y_train)"
   ]
  },
  {
   "cell_type": "markdown",
   "metadata": {},
   "source": [
    "## Testeo de los hiperparámetros"
   ]
  },
  {
   "cell_type": "code",
   "execution_count": null,
   "metadata": {},
   "outputs": [],
   "source": [
    "y_predicts_hyperparam = best_grid.predict(X_test)"
   ]
  },
  {
   "cell_type": "code",
   "execution_count": null,
   "metadata": {},
   "outputs": [],
   "source": [
    "print(\"Mean Square Error: \", mean_squared_error(y_test, y_predicts_hyperparam))\n",
    "print(\"Root of Mean Square Error: \", mean_squared_error(y_test, y_predicts_hyperparam, squared=False))\n",
    "print(\"score: \", grid.best_score_)"
   ]
  },
  {
   "cell_type": "markdown",
   "metadata": {},
   "source": [
    "# Parte 3: Modelo de regresión lineal"
   ]
  },
  {
   "cell_type": "markdown",
   "metadata": {},
   "source": [
    "## Estandarizar variables"
   ]
  },
  {
   "cell_type": "code",
   "execution_count": null,
   "metadata": {},
   "outputs": [],
   "source": [
    "from sklearn.preprocessing import StandardScaler\n",
    "from sklearn.linear_model import LinearRegression\n",
    "from sklearn.metrics import r2_score"
   ]
  },
  {
   "cell_type": "code",
   "execution_count": null,
   "metadata": {},
   "outputs": [],
   "source": [
    "Xregresion = df.drop(['SalePrice', 'HallwayTypeId', 'HeatingTypeId', 'AptManageTypeId','TimeToBusStopId','TimeToSubwayId','SubwayStationId'], axis=1)\n",
    "Yregresion = df['SalePrice']\n",
    "numVars = Xregresion.select_dtypes(include=['float64', 'int64']).columns.tolist()\n",
    "scaler = StandardScaler()\n",
    "scaler.fit(Xregresion[numVars])\n",
    "XRegresionScaled = scaler.transform(Xregresion[numVars])"
   ]
  },
  {
   "cell_type": "markdown",
   "metadata": {},
   "source": [
    "## Variables Dummy"
   ]
  },
  {
   "cell_type": "code",
   "execution_count": null,
   "metadata": {},
   "outputs": [],
   "source": [
    "Xregresion = pd.get_dummies(Xregresion)\n",
    "Xregresion.tail(10)"
   ]
  },
  {
   "cell_type": "code",
   "execution_count": null,
   "metadata": {},
   "outputs": [],
   "source": [
    "Xregresion.columns.tolist()"
   ]
  },
  {
   "cell_type": "markdown",
   "metadata": {},
   "source": [
    "## Conjunto de entrenamiento y prueba"
   ]
  },
  {
   "cell_type": "code",
   "execution_count": null,
   "metadata": {},
   "outputs": [],
   "source": [
    "np.random.seed(310589)\n",
    "X_train, X_test, Y_train, Y_test = train_test_split(XRegresionScaled, Yregresion, test_size = 0.15)"
   ]
  },
  {
   "cell_type": "markdown",
   "metadata": {},
   "source": [
    "## Entrenamiento modelo de regresión lineal"
   ]
  },
  {
   "cell_type": "code",
   "execution_count": null,
   "metadata": {},
   "outputs": [],
   "source": [
    "lr_model = LinearRegression()\n",
    "lr_model.fit(X_train, Y_train)"
   ]
  },
  {
   "cell_type": "code",
   "execution_count": null,
   "metadata": {},
   "outputs": [],
   "source": [
    "Y_pred = lr_model.predict(X_test)\n",
    "Y_pred"
   ]
  },
  {
   "cell_type": "code",
   "execution_count": null,
   "metadata": {},
   "outputs": [],
   "source": [
    "print(\"Mean Square Error: \", mean_squared_error(Y_pred, Y_test))\n",
    "print(\"Root of Mean Square Error: \", np.sqrt(mean_squared_error(Y_pred, Y_test)))\n",
    "print(\"score: \", r2_score(Y_pred, Y_test))"
   ]
  },
  {
   "cell_type": "markdown",
   "metadata": {},
   "source": [
    "# Parte 4: Resultados Modelos"
   ]
  },
  {
   "cell_type": "markdown",
   "metadata": {},
   "source": [
    "## Resultados árbol de regresión\n",
    "\n",
    "### Antes de hiperparámetros\n",
    "Mean Square Error:  404265115.1832344\n",
    "\n",
    "Root of Mean Square Error:  20106.34514732189\n",
    "\n",
    "score:  0.965272618969355\n",
    "\n",
    "### Después de hiperparámetros\n",
    "\n",
    "Mean Square Error:  365855503.05578005\n",
    "\n",
    "Root of Mean Square Error:  19127.349608761273\n",
    "\n",
    "score:  0.9663048134101091\n",
    "\n",
    "## Resultados regresión lineal\n",
    "\n",
    "Mean Square Error:  1719106175.174076\n",
    "\n",
    "Root of Mean Square Error:  41462.105291145985\n",
    "\n",
    "score:  0.8223594619684382\n",
    "\n",
    "#### Teniendo en cuenta los resultados obtenidos, podemos definir que el modelo que mejor se adapta es el árbol de regresión, con un score de 0.966 y un Root of Mean Square Error de 19.127. \n",
    "#### La regresión lineal cuenta con un score de 0.822 y un Root of Mean Square Error que dobla los dos anteriores.\n"
   ]
  }
 ],
 "metadata": {
  "kernelspec": {
   "display_name": "Python 3 (ipykernel)",
   "language": "python",
   "name": "python3"
  },
  "language_info": {
   "codemirror_mode": {
    "name": "ipython",
    "version": 3
   },
   "file_extension": ".py",
   "mimetype": "text/x-python",
   "name": "python",
   "nbconvert_exporter": "python",
   "pygments_lexer": "ipython3",
   "version": "3.9.13"
  }
 },
 "nbformat": 4,
 "nbformat_minor": 4
}
